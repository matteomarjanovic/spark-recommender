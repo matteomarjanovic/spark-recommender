{
 "cells": [
  {
   "cell_type": "code",
   "execution_count": 1,
   "metadata": {
    "ExecuteTime": {
     "end_time": "2020-09-04T07:06:34.224739Z",
     "start_time": "2020-09-04T07:06:30.172063Z"
    }
   },
   "outputs": [
    {
     "name": "stderr",
     "output_type": "stream",
     "text": [
      "23/06/24 21:34:36 WARN Utils: Your hostname, ilaria-MS-7B94 resolves to a loopback address: 127.0.1.1; using 157.27.31.4 instead (on interface enp4s0)\n",
      "23/06/24 21:34:36 WARN Utils: Set SPARK_LOCAL_IP if you need to bind to another address\n",
      "Ivy Default Cache set to: /home/student/.ivy2/cache\n",
      "The jars for the packages stored in: /home/student/.ivy2/jars\n",
      "org.elasticsearch#elasticsearch-hadoop added as a dependency\n",
      ":: resolving dependencies :: org.apache.spark#spark-submit-parent-a3c842eb-a21a-4fe1-8e5d-109414e20e2d;1.0\n",
      "\tconfs: [default]\n"
     ]
    },
    {
     "name": "stdout",
     "output_type": "stream",
     "text": [
      ":: loading settings :: url = jar:file:/home/student/Projects/bg/.conda/lib/python3.10/site-packages/pyspark/jars/ivy-2.5.1.jar!/org/apache/ivy/core/settings/ivysettings.xml\n"
     ]
    },
    {
     "name": "stderr",
     "output_type": "stream",
     "text": [
      "\tfound org.elasticsearch#elasticsearch-hadoop;8.8.0 in central\n",
      "\tfound commons-logging#commons-logging;1.1.1 in central\n",
      "\tfound commons-codec#commons-codec;1.4 in central\n",
      "\tfound javax.xml.bind#jaxb-api;2.3.1 in central\n",
      "\tfound org.apache.hive#hive-service;3.1.2 in central\n",
      "\tfound org.apache.hive#hive-exec;3.1.2 in central\n",
      "\tfound org.apache.hive#hive-metastore;3.1.2 in central\n",
      "\tfound org.apache.pig#pig;0.15.0 in central\n",
      "\tfound org.apache.spark#spark-yarn_2.11;2.3.0 in central\n",
      "\tfound org.scala-lang#scala-reflect;2.11.12 in central\n",
      "\tfound org.apache.storm#storm-core;1.0.6 in central\n",
      "\tfound org.apache.hadoop#hadoop-client;3.1.2 in central\n",
      "\tfound org.apache.hadoop#hadoop-common;3.1.2 in central\n",
      "\tfound org.apache.hadoop#hadoop-mapreduce-client-core;3.1.2 in central\n",
      "\tfound joda-time#joda-time;2.9.3 in central\n",
      ":: resolution report :: resolve 250ms :: artifacts dl 9ms\n",
      "\t:: modules in use:\n",
      "\tcommons-codec#commons-codec;1.4 from central in [default]\n",
      "\tcommons-logging#commons-logging;1.1.1 from central in [default]\n",
      "\tjavax.xml.bind#jaxb-api;2.3.1 from central in [default]\n",
      "\tjoda-time#joda-time;2.9.3 from central in [default]\n",
      "\torg.apache.hadoop#hadoop-client;3.1.2 from central in [default]\n",
      "\torg.apache.hadoop#hadoop-common;3.1.2 from central in [default]\n",
      "\torg.apache.hadoop#hadoop-mapreduce-client-core;3.1.2 from central in [default]\n",
      "\torg.apache.hive#hive-exec;3.1.2 from central in [default]\n",
      "\torg.apache.hive#hive-metastore;3.1.2 from central in [default]\n",
      "\torg.apache.hive#hive-service;3.1.2 from central in [default]\n",
      "\torg.apache.pig#pig;0.15.0 from central in [default]\n",
      "\torg.apache.spark#spark-yarn_2.11;2.3.0 from central in [default]\n",
      "\torg.apache.storm#storm-core;1.0.6 from central in [default]\n",
      "\torg.elasticsearch#elasticsearch-hadoop;8.8.0 from central in [default]\n",
      "\torg.scala-lang#scala-reflect;2.11.12 from central in [default]\n",
      "\t---------------------------------------------------------------------\n",
      "\t|                  |            modules            ||   artifacts   |\n",
      "\t|       conf       | number| search|dwnlded|evicted|| number|dwnlded|\n",
      "\t---------------------------------------------------------------------\n",
      "\t|      default     |   15  |   0   |   0   |   0   ||   15  |   0   |\n",
      "\t---------------------------------------------------------------------\n",
      ":: retrieving :: org.apache.spark#spark-submit-parent-a3c842eb-a21a-4fe1-8e5d-109414e20e2d\n",
      "\tconfs: [default]\n",
      "\t0 artifacts copied, 15 already retrieved (0kB/6ms)\n",
      "23/06/24 21:34:37 WARN NativeCodeLoader: Unable to load native-hadoop library for your platform... using builtin-java classes where applicable\n",
      "Setting default log level to \"WARN\".\n",
      "To adjust logging level use sc.setLogLevel(newLevel). For SparkR, use setLogLevel(newLevel).\n"
     ]
    },
    {
     "data": {
      "text/html": [
       "\n",
       "            <div>\n",
       "                <p><b>SparkSession - in-memory</b></p>\n",
       "                \n",
       "        <div>\n",
       "            <p><b>SparkContext</b></p>\n",
       "\n",
       "            <p><a href=\"http://brainavlab1.di.univr.it:4040\">Spark UI</a></p>\n",
       "\n",
       "            <dl>\n",
       "              <dt>Version</dt>\n",
       "                <dd><code>v3.4.0</code></dd>\n",
       "              <dt>Master</dt>\n",
       "                <dd><code>local[*]</code></dd>\n",
       "              <dt>AppName</dt>\n",
       "                <dd><code>recommendation_system</code></dd>\n",
       "            </dl>\n",
       "        </div>\n",
       "        \n",
       "            </div>\n",
       "        "
      ],
      "text/plain": [
       "<pyspark.sql.session.SparkSession at 0x7f51721ee5f0>"
      ]
     },
     "execution_count": 1,
     "metadata": {},
     "output_type": "execute_result"
    }
   ],
   "source": [
    "from pyspark.sql import *\n",
    "from pyspark.sql.functions import *\n",
    "import os\n",
    "import subprocess\n",
    "\n",
    "# os.environ['PYSPARK_SUBMIT_ARGS'] = '--jars elasticsearch-spark-30_2.12-8.8.0.jar pyspark-shell'\n",
    "\n",
    "os.environ['PYSPARK_SUBMIT_ARGS'] = '--jars elasticsearch-spark-30_2.12-8.8.0.jar --packages org.elasticsearch:elasticsearch-hadoop:8.8.0 pyspark-shell'\n",
    "\n",
    "\n",
    "# spark = SparkSession.builder.appName(\"recommendation_system\").config(\"spark.driver.memory\", \"3g\").getOrCreate()\n",
    "spark = SparkSession.builder.appName(\"recommendation_system\").getOrCreate()\n",
    "\n",
    "spark"
   ]
  },
  {
   "cell_type": "code",
   "execution_count": 2,
   "metadata": {},
   "outputs": [],
   "source": [
    "BASE_DATA_FOLDER = \"ml-latest-small/\"\n",
    "if not os.path.exists(os.path.join('stats', BASE_DATA_FOLDER)):\n",
    "    os.makedirs(os.path.join('stats', BASE_DATA_FOLDER))\n",
    "\n",
    "save_stats = False  # set this flag to true to save execution statistics about CPU and RAM usage"
   ]
  },
  {
   "cell_type": "code",
   "execution_count": 3,
   "metadata": {},
   "outputs": [],
   "source": [
    "if save_stats:\n",
    "    proc_ok = False\n",
    "    if not os.path.exists(os.path.join('stats', BASE_DATA_FOLDER, '00_load_movies' + '.csv')):\n",
    "        stats = subprocess.Popen(['./monitor.sh', BASE_DATA_FOLDER, '00_load_movies'])\n",
    "        proc_ok = True\n",
    "    from pyspark.sql.types import *\n",
    "\n",
    "movies_data = spark.read.option(\"header\", True).csv(BASE_DATA_FOLDER + \"movies.csv\")\n",
    "movies_data = movies_data.dropDuplicates(['movieId'])\n",
    "movies_data = movies_data.withColumn(\"genres\", split(col(\"genres\"), \"\\\\|\"))\n",
    "movies_data.limit(3).toPandas()\n",
    "if save_stats and proc_ok: stats.kill()"
   ]
  },
  {
   "cell_type": "code",
   "execution_count": 4,
   "metadata": {
    "ExecuteTime": {
     "end_time": "2020-09-04T07:14:08.645512Z",
     "start_time": "2020-09-04T07:14:03.932571Z"
    }
   },
   "outputs": [
    {
     "name": "stdout",
     "output_type": "stream",
     "text": [
      "+--------------------+-----+\n",
      "|              genres|count|\n",
      "+--------------------+-----+\n",
      "|             [Drama]| 1053|\n",
      "|            [Comedy]|  946|\n",
      "|     [Comedy, Drama]|  435|\n",
      "|   [Comedy, Romance]|  363|\n",
      "|    [Drama, Romance]|  349|\n",
      "|       [Documentary]|  339|\n",
      "|[Comedy, Drama, R...|  276|\n",
      "|   [Drama, Thriller]|  168|\n",
      "|            [Horror]|  167|\n",
      "|  [Horror, Thriller]|  135|\n",
      "|      [Crime, Drama]|  134|\n",
      "|[Crime, Drama, Th...|  125|\n",
      "|        [Drama, War]|  114|\n",
      "|     [Comedy, Crime]|  101|\n",
      "|    [Action, Comedy]|   92|\n",
      "|          [Thriller]|   84|\n",
      "|  [Children, Comedy]|   74|\n",
      "|    [Comedy, Horror]|   69|\n",
      "|[Action, Adventur...|   66|\n",
      "|[Action, Crime, T...|   66|\n",
      "|     [Action, Drama]|   62|\n",
      "|[Action, Crime, D...|   61|\n",
      "|            [Action]|   60|\n",
      "|  [Action, Thriller]|   60|\n",
      "|    [Horror, Sci-Fi]|   53|\n",
      "|[Action, Crime, D...|   50|\n",
      "|   [Crime, Thriller]|   45|\n",
      "|    [Drama, Musical]|   44|\n",
      "|[Action, Drama, T...|   43|\n",
      "|[Action, Sci-Fi, ...|   43|\n",
      "|[Horror, Mystery,...|   42|\n",
      "|[Action, Comedy, ...|   42|\n",
      "|[Action, Adventur...|   41|\n",
      "|[Drama, Mystery, ...|   41|\n",
      "|  [Adventure, Drama]|   41|\n",
      "|[Action, Drama, War]|   41|\n",
      "|[Drama, Horror, T...|   40|\n",
      "|[Action, Adventur...|   40|\n",
      "|    [Drama, Mystery]|   38|\n",
      "|    [Action, Sci-Fi]|   38|\n",
      "|[Horror, Sci-Fi, ...|   37|\n",
      "|[Animation, Child...|   37|\n",
      "|            [Sci-Fi]|   37|\n",
      "| [Adventure, Comedy]|   36|\n",
      "|[Comedy, Crime, D...|   35|\n",
      "|[Crime, Drama, My...|   34|\n",
      "|    [Comedy, Sci-Fi]|   34|\n",
      "|[(no genres listed)]|   34|\n",
      "|   [Comedy, Musical]|   34|\n",
      "|   [Comedy, Fantasy]|   33|\n",
      "| [Action, Adventure]|   32|\n",
      "|     [Action, Crime]|   32|\n",
      "|[Comedy, Document...|   31|\n",
      "|[Adventure, Anima...|   31|\n",
      "| [Mystery, Thriller]|   31|\n",
      "|     [Drama, Sci-Fi]|   30|\n",
      "| [Animation, Comedy]|   30|\n",
      "|         [Animation]|   30|\n",
      "|[Comedy, Musical,...|   30|\n",
      "|[Animation, Child...|   28|\n",
      "|[Action, Adventur...|   27|\n",
      "|[Action, Adventur...|   27|\n",
      "|     [Drama, Horror]|   26|\n",
      "|[Drama, Romance, ...|   24|\n",
      "|[Comedy, Fantasy,...|   24|\n",
      "|    [Drama, Fantasy]|   24|\n",
      "|[Adventure, Child...|   24|\n",
      "|  [Sci-Fi, Thriller]|   23|\n",
      "|           [Western]|   23|\n",
      "|[Action, Adventur...|   23|\n",
      "|[Adventure, Child...|   23|\n",
      "|[Action, Comedy, ...|   22|\n",
      "|[Action, Adventur...|   22|\n",
      "|           [Romance]|   21|\n",
      "|[Drama, Musical, ...|   21|\n",
      "|[Drama, Horror, M...|   20|\n",
      "|[Action, Horror, ...|   20|\n",
      "|[Children, Comedy...|   20|\n",
      "|[Crime, Horror, T...|   18|\n",
      "|[Action, Adventur...|   18|\n",
      "|   [Children, Drama]|   18|\n",
      "|[Drama, Fantasy, ...|   18|\n",
      "|[Comedy, Drama, War]|   18|\n",
      "|[Action, Adventur...|   18|\n",
      "|[Comedy, Horror, ...|   17|\n",
      "|[Comedy, Drama, M...|   17|\n",
      "|  [Comedy, Thriller]|   17|\n",
      "|[Action, Adventur...|   17|\n",
      "|[Action, Horror, ...|   16|\n",
      "|    [Drama, Western]|   16|\n",
      "|[Comedy, Drama, F...|   16|\n",
      "|[Action, Horror, ...|   16|\n",
      "|[Adventure, Anima...|   16|\n",
      "|       [Comedy, War]|   16|\n",
      "|[Crime, Drama, Ro...|   16|\n",
      "|[Comedy, Drama, F...|   15|\n",
      "|[Adventure, Comed...|   15|\n",
      "|           [Musical]|   15|\n",
      "|[Adventure, Drama...|   15|\n",
      "| [Adventure, Sci-Fi]|   15|\n",
      "+--------------------+-----+\n",
      "only showing top 100 rows\n",
      "\n"
     ]
    }
   ],
   "source": [
    "movies_data.groupBy(\"genres\").count().orderBy(col('count').desc()).show(100)"
   ]
  },
  {
   "cell_type": "code",
   "execution_count": 5,
   "metadata": {
    "ExecuteTime": {
     "end_time": "2020-09-04T07:14:22.425243Z",
     "start_time": "2020-09-04T07:14:21.940316Z"
    }
   },
   "outputs": [
    {
     "data": {
      "text/plain": [
       "ObjectApiResponse({'name': 'ilaria-MS-7B94', 'cluster_name': 'elasticsearch', 'cluster_uuid': 'i-HQNtSZToi8ekX-DUdoBg', 'version': {'number': '8.8.0', 'build_flavor': 'default', 'build_type': 'tar', 'build_hash': 'c01029875a091076ed42cdb3a41c10b1a9a5a20f', 'build_date': '2023-05-23T17:16:07.179039820Z', 'build_snapshot': False, 'lucene_version': '9.6.0', 'minimum_wire_compatibility_version': '7.17.0', 'minimum_index_compatibility_version': '7.0.0'}, 'tagline': 'You Know, for Search'})"
      ]
     },
     "execution_count": 5,
     "metadata": {},
     "output_type": "execute_result"
    }
   ],
   "source": [
    "from elasticsearch import Elasticsearch\n",
    "\n",
    "# test your ES instance is running\n",
    "es = Elasticsearch(\"htts://localhost:9200\")\n",
    "es.info(pretty=True)"
   ]
  },
  {
   "cell_type": "code",
   "execution_count": 6,
   "metadata": {
    "ExecuteTime": {
     "end_time": "2020-09-04T07:14:41.430876Z",
     "start_time": "2020-09-04T07:14:39.262089Z"
    }
   },
   "outputs": [
    {
     "name": "stdout",
     "output_type": "stream",
     "text": [
      "Created indices:\n",
      "{'acknowledged': True, 'shards_acknowledged': True, 'index': 'movies'}\n"
     ]
    },
    {
     "name": "stderr",
     "output_type": "stream",
     "text": [
      "/tmp/ipykernel_1328734/201502410.py:36: DeprecationWarning: The 'body' parameter is deprecated and will be removed in a future version. Instead use individual parameters.\n",
      "  res_movies = es.indices.create(index=\"movies\", body=movies_mapping)\n"
     ]
    }
   ],
   "source": [
    "if es.indices.exists(index=\"movies\"):\n",
    "    es.indices.delete(index=\"movies\")\n",
    "VECTOR_DIM = 25\n",
    "\n",
    "movies_mapping = {\n",
    "    # this mapping definition sets up the metadata fields for the movies\n",
    "    \"mappings\": {\n",
    "        \"properties\": {\n",
    "            \"movieId\": {\n",
    "                \"type\": \"keyword\"\n",
    "            },\n",
    "            \"title\": {\n",
    "                \"type\": \"keyword\"\n",
    "            },\n",
    "            \"genres\": {\n",
    "                \"type\": \"keyword\"\n",
    "            },\n",
    "            \"main_genre\": {\n",
    "                \"type\": \"keyword\"\n",
    "            },\n",
    "            # the following fields define our model factor vectors and metadata\n",
    "            \"model_factor\": {\n",
    "                \"type\": \"dense_vector\",\n",
    "                \"dims\" : VECTOR_DIM\n",
    "            },\n",
    "            \"model_version\": {\n",
    "                \"type\": \"keyword\"\n",
    "            },\n",
    "            \"model_timestamp\": {\n",
    "                \"type\": \"date\"\n",
    "            }          \n",
    "        }\n",
    "    }\n",
    "}\n",
    "\n",
    "res_movies = es.indices.create(index=\"movies\", body=movies_mapping)\n",
    "\n",
    "print(\"Created indices:\")\n",
    "print(res_movies)"
   ]
  },
  {
   "cell_type": "code",
   "execution_count": 7,
   "metadata": {
    "ExecuteTime": {
     "end_time": "2020-09-04T07:15:06.668156Z",
     "start_time": "2020-09-04T07:14:51.497854Z"
    }
   },
   "outputs": [
    {
     "name": "stderr",
     "output_type": "stream",
     "text": [
      "                                                                                \r"
     ]
    },
    {
     "name": "stdout",
     "output_type": "stream",
     "text": [
      "Movies DF count: 9742\n",
      "ES index count: 9742\n"
     ]
    }
   ],
   "source": [
    "movies_data.write.format(\"es\").option(\"es.mapping.id\", \"movieId\").save(\"movies\")\n",
    "num_movies_df = movies_data.count()\n",
    "num_movies_es = es.count(index=\"movies\")['count']\n",
    "# check load went ok\n",
    "print(\"Movies DF count: {}\".format(num_movies_df))\n",
    "print(\"ES index count: {}\".format(num_movies_es))"
   ]
  },
  {
   "cell_type": "code",
   "execution_count": 8,
   "metadata": {
    "ExecuteTime": {
     "end_time": "2020-09-03T05:00:53.827390Z",
     "start_time": "2020-09-03T05:00:53.721203Z"
    }
   },
   "outputs": [
    {
     "data": {
      "text/plain": [
       "ObjectApiResponse({'took': 2, 'timed_out': False, '_shards': {'total': 1, 'successful': 1, 'skipped': 0, 'failed': 0}, 'hits': {'total': {'value': 4361, 'relation': 'eq'}, 'max_score': 1.0419514, 'hits': [{'_index': 'movies', '_id': '100', '_score': 1.0419514, '_source': {'movieId': '100', 'title': 'City Hall (1996)', 'genres': ['Drama', 'Thriller']}}, {'_index': 'movies', '_id': '100226', '_score': 1.0419514, '_source': {'movieId': '100226', 'title': 'Why Stop Now (2012)', 'genres': ['Comedy', 'Drama']}}, {'_index': 'movies', '_id': '100277', '_score': 1.0419514, '_source': {'movieId': '100277', 'title': 'Tabu (2012)', 'genres': ['Drama', 'Romance']}}]}})"
      ]
     },
     "execution_count": 8,
     "metadata": {},
     "output_type": "execute_result"
    }
   ],
   "source": [
    "es.search(index=\"movies\", q=\"genres:Drama\", size=3)"
   ]
  },
  {
   "cell_type": "code",
   "execution_count": 9,
   "metadata": {},
   "outputs": [],
   "source": [
    "if save_stats:\n",
    "    proc_ok = False\n",
    "    if not os.path.exists(os.path.join('stats', BASE_DATA_FOLDER, '01_load_ratings' + '.csv')):\n",
    "        stats = subprocess.Popen(['./monitor.sh', BASE_DATA_FOLDER, '01_load_ratings'])\n",
    "        proc_ok = True\n",
    "\n",
    "df_rating = spark.read.option(\"header\", True).option(\"inferSchema\", True).csv(BASE_DATA_FOLDER + \"ratings.csv\")\n",
    "df_rating = df_rating.drop(df_rating.timestamp)\n",
    "\n",
    "df_rating.limit(3).toPandas()\n",
    "if save_stats and proc_ok: stats.kill()"
   ]
  },
  {
   "cell_type": "code",
   "execution_count": 10,
   "metadata": {},
   "outputs": [
    {
     "data": {
      "text/plain": [
       "100836"
      ]
     },
     "execution_count": 10,
     "metadata": {},
     "output_type": "execute_result"
    }
   ],
   "source": [
    "df_rating.count()"
   ]
  },
  {
   "cell_type": "code",
   "execution_count": 11,
   "metadata": {
    "ExecuteTime": {
     "end_time": "2020-09-03T05:02:33.402752Z",
     "start_time": "2020-09-03T05:02:22.532653Z"
    }
   },
   "outputs": [
    {
     "name": "stdout",
     "output_type": "stream",
     "text": [
      "+------+-------+------+-------------+------------+\n",
      "|userId|movieId|rating|movieId_index|userId_index|\n",
      "+------+-------+------+-------------+------------+\n",
      "|     1|      1|   4.0|         11.0|       111.0|\n",
      "|     1|      3|   4.0|        422.0|       111.0|\n",
      "|     1|      6|   4.0|        129.0|       111.0|\n",
      "|     1|     47|   5.0|         15.0|       111.0|\n",
      "|     1|     50|   5.0|         14.0|       111.0|\n",
      "|     1|     70|   3.0|        390.0|       111.0|\n",
      "|     1|    101|   5.0|       1095.0|       111.0|\n",
      "|     1|    110|   4.0|          7.0|       111.0|\n",
      "|     1|    151|   5.0|        534.0|       111.0|\n",
      "|     1|    157|   5.0|       1991.0|       111.0|\n",
      "|     1|    163|   5.0|        280.0|       111.0|\n",
      "|     1|    216|   5.0|        451.0|       111.0|\n",
      "|     1|    223|   3.0|        121.0|       111.0|\n",
      "|     1|    231|   5.0|         63.0|       111.0|\n",
      "|     1|    235|   4.0|        254.0|       111.0|\n",
      "|     1|    260|   5.0|          5.0|       111.0|\n",
      "|     1|    296|   3.0|          2.0|       111.0|\n",
      "|     1|    316|   3.0|         58.0|       111.0|\n",
      "|     1|    333|   5.0|        440.0|       111.0|\n",
      "|     1|    349|   4.0|        103.0|       111.0|\n",
      "+------+-------+------+-------------+------------+\n",
      "only showing top 20 rows\n",
      "\n"
     ]
    }
   ],
   "source": [
    "from pyspark.ml.evaluation import RegressionEvaluator\n",
    "from pyspark.ml.recommendation import ALS\n",
    "\n",
    "from pyspark.ml.feature import StringIndexer\n",
    "from pyspark.ml import Pipeline\n",
    "from pyspark.sql.functions import col\n",
    "\n",
    "if save_stats:\n",
    "    proc_ok = False\n",
    "    if not os.path.exists(os.path.join('stats', BASE_DATA_FOLDER, '02_prepare_ALS_matrix' + '.csv')):\n",
    "        stats = subprocess.Popen(['./monitor.sh', BASE_DATA_FOLDER, '02_prepare_ALS_matrix'])\n",
    "        proc_ok = True\n",
    "indexer = [StringIndexer(inputCol=column, outputCol=column+\"_index\") for column in list(set(df_rating.columns)-set(['rating'])) ]\n",
    "pipeline = Pipeline(stages=indexer)\n",
    "transformed = pipeline.fit(df_rating).transform(df_rating)\n",
    "transformed.show()\n",
    "if save_stats and proc_ok: stats.kill()"
   ]
  },
  {
   "cell_type": "code",
   "execution_count": 12,
   "metadata": {
    "ExecuteTime": {
     "end_time": "2020-09-03T05:04:03.938337Z",
     "start_time": "2020-09-03T05:02:37.654000Z"
    }
   },
   "outputs": [
    {
     "name": "stderr",
     "output_type": "stream",
     "text": [
      "23/06/24 21:34:51 WARN InstanceBuilder: Failed to load implementation from:dev.ludovic.netlib.blas.JNIBLAS\n"
     ]
    }
   ],
   "source": [
    "if save_stats:\n",
    "    proc_ok = False\n",
    "    if not os.path.exists(os.path.join('stats', BASE_DATA_FOLDER, '03_train_ALS_model' + '.csv')):\n",
    "        stats = subprocess.Popen(['./monitor.sh', BASE_DATA_FOLDER, '03_train_ALS_model'])\n",
    "        proc_ok = True\n",
    "epochs = 5\n",
    "als=ALS(maxIter=epochs,\n",
    "        regParam=0.09,\n",
    "        rank=25,\n",
    "        userCol=\"userId_index\",\n",
    "        itemCol=\"movieId_index\",\n",
    "        ratingCol=\"rating\",\n",
    "        coldStartStrategy=\"drop\",\n",
    "        nonnegative=True)\n",
    "model=als.fit(transformed)\n",
    "if save_stats and proc_ok: stats.kill()"
   ]
  },
  {
   "cell_type": "code",
   "execution_count": 13,
   "metadata": {
    "ExecuteTime": {
     "end_time": "2020-09-02T14:43:50.849997Z",
     "start_time": "2020-09-02T14:43:45.509579Z"
    }
   },
   "outputs": [
    {
     "data": {
      "text/plain": [
       "9724"
      ]
     },
     "execution_count": 13,
     "metadata": {},
     "output_type": "execute_result"
    }
   ],
   "source": [
    "model.itemFactors.count()"
   ]
  },
  {
   "cell_type": "code",
   "execution_count": 14,
   "metadata": {
    "ExecuteTime": {
     "end_time": "2020-09-02T12:55:22.448890Z",
     "start_time": "2020-09-02T12:55:18.289025Z"
    }
   },
   "outputs": [
    {
     "name": "stdout",
     "output_type": "stream",
     "text": [
      "RMSE=0.5315331254478515\n",
      "+------+-------+------+-------------+------------+----------+\n",
      "|userId|movieId|rating|movieId_index|userId_index|prediction|\n",
      "+------+-------+------+-------------+------------+----------+\n",
      "|   279|      1|   3.0|         11.0|       148.0| 3.5582147|\n",
      "|   279|     50|   3.5|         14.0|       148.0| 3.9195628|\n",
      "|   279|    104|   3.5|        138.0|       148.0| 3.1756647|\n",
      "|   279|    110|   4.0|          7.0|       148.0| 3.7059708|\n",
      "|   279|    260|   5.0|          5.0|       148.0|  4.014719|\n",
      "|   279|    296|   5.0|          2.0|       148.0| 4.0579643|\n",
      "|   279|    318|   4.5|          1.0|       148.0|  4.054704|\n",
      "|   279|    356|   3.0|          0.0|       148.0| 3.6161487|\n",
      "|   279|    377|   3.5|         34.0|       148.0| 3.2095318|\n",
      "|   279|    480|   4.0|          6.0|       148.0|  3.790353|\n",
      "|   279|    541|   5.0|         79.0|       148.0|   4.20316|\n",
      "|   279|    588|   2.0|         27.0|       148.0| 3.2700393|\n",
      "|   279|    589|   4.0|          8.0|       148.0|  3.912975|\n",
      "|   279|    593|   4.0|          3.0|       148.0| 3.8338273|\n",
      "|   279|    608|   2.0|         28.0|       148.0| 3.5604873|\n",
      "|   279|    648|   4.0|         39.0|       148.0| 3.1994908|\n",
      "|   279|    780|   4.0|         16.0|       148.0| 3.1867197|\n",
      "|   279|    858|   4.0|         21.0|       148.0| 4.0056334|\n",
      "|   279|    924|   4.0|        110.0|       148.0| 3.7571032|\n",
      "|   279|   1036|   5.0|         47.0|       148.0| 4.0380177|\n",
      "+------+-------+------+-------------+------------+----------+\n",
      "only showing top 20 rows\n",
      "\n"
     ]
    }
   ],
   "source": [
    "if save_stats:\n",
    "    proc_ok = False\n",
    "    if not os.path.exists(os.path.join('stats', BASE_DATA_FOLDER, '04_eval_ALS_model' + '.csv')):\n",
    "        stats = subprocess.Popen(['./monitor.sh', BASE_DATA_FOLDER, '04_eval_ALS_model'])\n",
    "        proc_ok = True\n",
    "evaluator=RegressionEvaluator(metricName=\"rmse\",labelCol=\"rating\",predictionCol=\"prediction\")\n",
    "predictions=model.transform(transformed)\n",
    "rmse=evaluator.evaluate(predictions)\n",
    "print(\"RMSE=\"+str(rmse))\n",
    "predictions.show()\n",
    "if save_stats and proc_ok: stats.kill()"
   ]
  },
  {
   "cell_type": "code",
   "execution_count": 15,
   "metadata": {
    "ExecuteTime": {
     "end_time": "2020-09-03T05:06:03.533982Z",
     "start_time": "2020-09-03T05:06:02.368840Z"
    }
   },
   "outputs": [
    {
     "name": "stdout",
     "output_type": "stream",
     "text": [
      "+---+--------------------+----------------+---------------+\n",
      "| id|        model_factor|   model_version|model_timestamp|\n",
      "+---+--------------------+----------------+---------------+\n",
      "|  0|[0.43371177, 0.35...|ALS_c9cfb62c4802|     1687635325|\n",
      "| 10|[0.5661802, 0.729...|ALS_c9cfb62c4802|     1687635325|\n",
      "+---+--------------------+----------------+---------------+\n",
      "only showing top 2 rows\n",
      "\n"
     ]
    }
   ],
   "source": [
    "from pyspark.sql.functions import lit, current_timestamp, unix_timestamp\n",
    "ver = model.uid\n",
    "ts = unix_timestamp(current_timestamp())\n",
    "movie_vectors = model.itemFactors.select(\"id\",\\\n",
    "                                         col(\"features\").alias(\"model_factor\"),\\\n",
    "                                         lit(ver).alias(\"model_version\"),\\\n",
    "                                         ts.alias(\"model_timestamp\"))\n",
    "movie_vectors.show(2)"
   ]
  },
  {
   "cell_type": "code",
   "execution_count": 16,
   "metadata": {
    "ExecuteTime": {
     "end_time": "2020-09-03T05:06:12.248600Z",
     "start_time": "2020-09-03T05:06:07.772888Z"
    }
   },
   "outputs": [
    {
     "name": "stdout",
     "output_type": "stream",
     "text": [
      "+--------------------+----------------+---------------+-------+\n",
      "|        model_factor|   model_version|model_timestamp|movieId|\n",
      "+--------------------+----------------+---------------+-------+\n",
      "|[0.43371177, 0.35...|ALS_c9cfb62c4802|     1687635328|    356|\n",
      "|[0.5661802, 0.729...|ALS_c9cfb62c4802|     1687635328|   2959|\n",
      "|[0.4957765, 0.368...|ALS_c9cfb62c4802|     1687635328|   1210|\n",
      "|[0.40923086, 0.05...|ALS_c9cfb62c4802|     1687635328|    380|\n",
      "|[0.13087532, 0.25...|ALS_c9cfb62c4802|     1687635328|    344|\n",
      "|[0.97353643, 0.61...|ALS_c9cfb62c4802|     1687635328|   1265|\n",
      "|[0.86571455, 0.93...|ALS_c9cfb62c4802|     1687635328|   1136|\n",
      "|[0.7586526, 0.869...|ALS_c9cfb62c4802|     1687635328|   6874|\n",
      "|[0.52205855, 0.27...|ALS_c9cfb62c4802|     1687635328|   4995|\n",
      "|[0.6928032, 0.690...|ALS_c9cfb62c4802|     1687635328|   1073|\n",
      "+--------------------+----------------+---------------+-------+\n",
      "only showing top 10 rows\n",
      "\n"
     ]
    }
   ],
   "source": [
    "movieId_index_meta = [\n",
    "    f.metadata for f in transformed.schema.fields if f.name == \"movieId_index\"]\n",
    "movieId_index_labels = movieId_index_meta[0][\"ml_attr\"][\"vals\"]\n",
    "\n",
    "from pyspark.ml.feature import IndexToString\n",
    "\n",
    "reviewerId_converter = IndexToString(inputCol=\"id\", outputCol=\"movieId\",   labels=movieId_index_labels)\n",
    "PredictedLabels = reviewerId_converter.transform(movie_vectors)\n",
    "PredictedLabels = PredictedLabels.drop('id')\n",
    "PredictedLabels.show(10)"
   ]
  },
  {
   "cell_type": "code",
   "execution_count": 17,
   "metadata": {
    "ExecuteTime": {
     "end_time": "2020-09-02T13:27:48.684217Z",
     "start_time": "2020-09-02T13:27:44.080838Z"
    }
   },
   "outputs": [
    {
     "data": {
      "text/plain": [
       "9724"
      ]
     },
     "execution_count": 17,
     "metadata": {},
     "output_type": "execute_result"
    }
   ],
   "source": [
    "PredictedLabels.count()"
   ]
  },
  {
   "cell_type": "code",
   "execution_count": 18,
   "metadata": {
    "ExecuteTime": {
     "end_time": "2020-09-03T05:07:46.987512Z",
     "start_time": "2020-09-03T05:07:33.971761Z"
    }
   },
   "outputs": [
    {
     "name": "stderr",
     "output_type": "stream",
     "text": [
      "                                                                                \r"
     ]
    }
   ],
   "source": [
    "PredictedLabels.write.format(\"es\") \\\n",
    "    .option(\"es.mapping.id\", \"movieId\") \\\n",
    "    .option(\"es.write.operation\", \"upsert\") \\\n",
    "    .save(\"movies\", mode=\"append\")"
   ]
  },
  {
   "cell_type": "code",
   "execution_count": 19,
   "metadata": {
    "ExecuteTime": {
     "end_time": "2020-09-03T11:53:46.212377Z",
     "start_time": "2020-09-03T11:53:46.150112Z"
    }
   },
   "outputs": [],
   "source": [
    "import pandas as pd\n",
    "\n",
    "def vector_query(query_vec, genres, vector_field, cosine=False, use_genre=True):\n",
    "    \"\"\"\n",
    "    Construct an Elasticsearch script score query using `dense_vector` fields\n",
    "    \n",
    "    The script score query takes as parameters the query vector (as a Python list)\n",
    "    \n",
    "    Parameters\n",
    "    ----------\n",
    "    query_vec : list\n",
    "        The query vector\n",
    "    vector_field : str\n",
    "        The field name in the document against which to score `query_vec`\n",
    "    q : str, optional\n",
    "        Query string for the search query (default: '*' to search across all documents)\n",
    "    cosine : bool, optional\n",
    "        Whether to compute cosine similarity. If `False` then the dot product is computed (default: False)\n",
    "     \n",
    "    Note: Elasticsearch cannot rank negative scores. Therefore, in the case of the dot product, a sigmoid transform\n",
    "    is applied. In the case of cosine similarity, 1.0 is added to the score. In both cases, documents with no \n",
    "    factor vectors are ignored by applying a 0.0 score.\n",
    "    \n",
    "    The query vector passed in will be the user factor vector (if generating recommended items for a user)\n",
    "    or product factor vector (if generating similar items for a given item)\n",
    "    \"\"\"\n",
    "    \n",
    "    if cosine:\n",
    "        score_fn = \"doc['{v}'].size() == 0 ? 0 : cosineSimilarity(params.vector, '{v}') + 1.0\"\n",
    "    else:\n",
    "        score_fn = \"doc['{v}'].size() == 0 ? 0 : sigmoid(1, Math.E, -dotProduct(params.vector, '{v}'))\"\n",
    "       \n",
    "    score_fn = score_fn.format(v=vector_field, fn=score_fn)\n",
    "    \n",
    "    if not use_genre:\n",
    "        return {\n",
    "            \"query\": {\n",
    "                \"script_score\": {\n",
    "                    \"query\" : { \n",
    "                        \"match_all\": {}\n",
    "                    },\n",
    "                    \"script\": {\n",
    "                        \"source\": score_fn,\n",
    "                        \"params\": {\n",
    "                            \"vector\": query_vec\n",
    "                        }\n",
    "                    }\n",
    "                }\n",
    "            }\n",
    "        }\n",
    "\n",
    "    return {\n",
    "        \"query\": {\n",
    "            \"script_score\": {\n",
    "                \"query\" : { \n",
    "                    \"bool\" : {\n",
    "                        \"filter\" : {\n",
    "                            \"terms\" : {\n",
    "                                \"genres\" : genres\n",
    "                            }\n",
    "                        }\n",
    "                    }\n",
    "                },\n",
    "                \"script\": {\n",
    "                    \"source\": score_fn,\n",
    "                        \"params\": {\n",
    "                            \"vector\": query_vec\n",
    "                        }\n",
    "                }\n",
    "            }\n",
    "        }\n",
    "    }\n",
    "\n",
    "\n",
    "\n",
    "def get_similar(the_id, num=10, index=\"movies\", vector_field='model_factor'):\n",
    "    \"\"\"\n",
    "    Given a item id, execute the recommendation script score query to find similar items,\n",
    "    ranked by cosine similarity. We return the `num` most similar, excluding the item itself.\n",
    "    \"\"\"\n",
    "    response = es.get(index=index, id=the_id)\n",
    "    src = response['_source']\n",
    "    if vector_field in src:\n",
    "        query_vec = src[vector_field]\n",
    "        genres = src['genres']\n",
    "        q = vector_query(query_vec, genres, vector_field, cosine=True)\n",
    "#         print(q)\n",
    "        results = es.search(index=index, body=q)\n",
    "        hits = results['hits']['hits']\n",
    "        return src,hits[1:num+1]\n",
    "\n",
    "def display_similar(the_id, num=10, es_index=\"movies\"):\n",
    "    \"\"\"\n",
    "    Display query product, together with similar product and similarity scores, in a table\n",
    "    \"\"\"\n",
    "    movie, recs = get_similar(the_id, num, es_index)\n",
    "       \n",
    "    display(HTML(\"<h2>Get similar movies for:</h2>\"))\n",
    "    display(HTML(\"<h4>%s (movieId - %s) (genres - %s)</h4>\" % (movie['title'], movie['movieId'], movie['genres'])))\n",
    "    display(HTML(\"<br>\"))\n",
    "    display(HTML(\"<h2>People who liked this movie also liked these:</h2>\"))\n",
    "    sim_html = \"<table border=0>\"\n",
    "    i = 0\n",
    "    pd_data = []\n",
    "    for rec in recs:\n",
    "        r_score = rec['_score']\n",
    "        r_title = rec['_source']['title']\n",
    "        r_genres = rec['_source']['genres']\n",
    "        r = {}\n",
    "        r['movieId'] = rec['_source']['movieId']\n",
    "        r['title'] = r_title\n",
    "        r['score'] = r_score\n",
    "        r['genres'] = r_genres\n",
    "        pd_data.append(r)\n",
    "        # r_im_url = rec['_source']['image']\n",
    "        sim_html += \"<tr><td><h5>%s</h5><img src=%s width=150></img></td><td><h5>%2.3f</h5></td></tr>\" % (r_title, \"fake img\", r_score)\n",
    "        i += 1\n",
    "    sim_html += \"</table>\"\n",
    "    pd.set_option('display.max_colwidth', 5) \n",
    "    pd_df = pd.DataFrame (pd_data)\n",
    "    display(HTML(pd_df.to_html()))\n",
    "    # display(HTML(sim_html))\n"
   ]
  },
  {
   "cell_type": "code",
   "execution_count": 20,
   "metadata": {
    "ExecuteTime": {
     "end_time": "2020-09-03T11:53:51.447805Z",
     "start_time": "2020-09-03T11:53:51.338570Z"
    }
   },
   "outputs": [
    {
     "name": "stderr",
     "output_type": "stream",
     "text": [
      "/tmp/ipykernel_1328734/2686027687.py:88: DeprecationWarning: The 'body' parameter is deprecated and will be removed in a future version. Instead use individual parameters.\n",
      "  results = es.search(index=index, body=q)\n"
     ]
    },
    {
     "data": {
      "text/html": [
       "<h2>Get similar movies for:</h2>"
      ],
      "text/plain": [
       "<IPython.core.display.HTML object>"
      ]
     },
     "metadata": {},
     "output_type": "display_data"
    },
    {
     "data": {
      "text/html": [
       "<h4>Life Is Beautiful (La Vita è bella) (1997) (movieId - 2324) (genres - ['Comedy', 'Drama', 'Romance', 'War'])</h4>"
      ],
      "text/plain": [
       "<IPython.core.display.HTML object>"
      ]
     },
     "metadata": {},
     "output_type": "display_data"
    },
    {
     "data": {
      "text/html": [
       "<br>"
      ],
      "text/plain": [
       "<IPython.core.display.HTML object>"
      ]
     },
     "metadata": {},
     "output_type": "display_data"
    },
    {
     "data": {
      "text/html": [
       "<h2>People who liked this movie also liked these:</h2>"
      ],
      "text/plain": [
       "<IPython.core.display.HTML object>"
      ]
     },
     "metadata": {},
     "output_type": "display_data"
    },
    {
     "data": {
      "text/html": [
       "<table border=\"1\" class=\"dataframe\">\n",
       "  <thead>\n",
       "    <tr style=\"text-align: right;\">\n",
       "      <th></th>\n",
       "      <th>movieId</th>\n",
       "      <th>title</th>\n",
       "      <th>score</th>\n",
       "      <th>genres</th>\n",
       "    </tr>\n",
       "  </thead>\n",
       "  <tbody>\n",
       "    <tr>\n",
       "      <th>0</th>\n",
       "      <td>5377</td>\n",
       "      <td>About a Boy (2002)</td>\n",
       "      <td>1.945158</td>\n",
       "      <td>[Comedy, Drama, Romance]</td>\n",
       "    </tr>\n",
       "    <tr>\n",
       "      <th>1</th>\n",
       "      <td>7647</td>\n",
       "      <td>Noises Off... (1992)</td>\n",
       "      <td>1.926612</td>\n",
       "      <td>[Comedy]</td>\n",
       "    </tr>\n",
       "    <tr>\n",
       "      <th>2</th>\n",
       "      <td>5446</td>\n",
       "      <td>Rabbit-Proof Fence (2002)</td>\n",
       "      <td>1.920371</td>\n",
       "      <td>[Adventure, Drama]</td>\n",
       "    </tr>\n",
       "    <tr>\n",
       "      <th>3</th>\n",
       "      <td>1961</td>\n",
       "      <td>Rain Man (1988)</td>\n",
       "      <td>1.920337</td>\n",
       "      <td>[Drama]</td>\n",
       "    </tr>\n",
       "    <tr>\n",
       "      <th>4</th>\n",
       "      <td>1913</td>\n",
       "      <td>Picnic at Hanging Rock (1975)</td>\n",
       "      <td>1.919638</td>\n",
       "      <td>[Drama, Mystery]</td>\n",
       "    </tr>\n",
       "    <tr>\n",
       "      <th>5</th>\n",
       "      <td>3629</td>\n",
       "      <td>Gold Rush, The (1925)</td>\n",
       "      <td>1.919569</td>\n",
       "      <td>[Adventure, Comedy, Romance]</td>\n",
       "    </tr>\n",
       "    <tr>\n",
       "      <th>6</th>\n",
       "      <td>927</td>\n",
       "      <td>Women, The (1939)</td>\n",
       "      <td>1.919086</td>\n",
       "      <td>[Comedy]</td>\n",
       "    </tr>\n",
       "    <tr>\n",
       "      <th>7</th>\n",
       "      <td>33660</td>\n",
       "      <td>Cinderella Man (2005)</td>\n",
       "      <td>1.917934</td>\n",
       "      <td>[Drama, Romance]</td>\n",
       "    </tr>\n",
       "    <tr>\n",
       "      <th>8</th>\n",
       "      <td>5238</td>\n",
       "      <td>Return of the Secaucus 7 (1980)</td>\n",
       "      <td>1.917587</td>\n",
       "      <td>[Drama]</td>\n",
       "    </tr>\n",
       "  </tbody>\n",
       "</table>"
      ],
      "text/plain": [
       "<IPython.core.display.HTML object>"
      ]
     },
     "metadata": {},
     "output_type": "display_data"
    }
   ],
   "source": [
    "from IPython.display import Image, HTML, display\n",
    "data = display_similar('2324', num=10)"
   ]
  }
 ],
 "metadata": {
  "kernelspec": {
   "display_name": "Python 3",
   "language": "python",
   "name": "python3"
  },
  "language_info": {
   "codemirror_mode": {
    "name": "ipython",
    "version": 3
   },
   "file_extension": ".py",
   "mimetype": "text/x-python",
   "name": "python",
   "nbconvert_exporter": "python",
   "pygments_lexer": "ipython3",
   "version": "3.10.11"
  },
  "varInspector": {
   "cols": {
    "lenName": 16,
    "lenType": 16,
    "lenVar": 40
   },
   "kernels_config": {
    "python": {
     "delete_cmd_postfix": "",
     "delete_cmd_prefix": "del ",
     "library": "var_list.py",
     "varRefreshCmd": "print(var_dic_list())"
    },
    "r": {
     "delete_cmd_postfix": ") ",
     "delete_cmd_prefix": "rm(",
     "library": "var_list.r",
     "varRefreshCmd": "cat(var_dic_list()) "
    }
   },
   "types_to_exclude": [
    "module",
    "function",
    "builtin_function_or_method",
    "instance",
    "_Feature"
   ],
   "window_display": false
  }
 },
 "nbformat": 4,
 "nbformat_minor": 4
}
